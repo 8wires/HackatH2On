{
 "cells": [
  {
   "cell_type": "code",
   "execution_count": 47,
   "metadata": {},
   "outputs": [],
   "source": [
    "import numpy as np\n",
    "import pandas as pd\n",
    "import re\n",
    "import math\n",
    "consumos = pd.read_csv('consumos.csv',sep=';')\n",
    "accidentes = pd.read_csv('accidentes.csv', sep=';', usecols=['dist','any','mes','dia','hora','Long','Lat'])\n",
    "consumos.columns = ['ano','mun','dis','uso','tipo','consumo','contratos']\n",
    "bomberos = consumos[consumos.tipo=='SERVEI EQUIP C.INCENDIS']\n",
    "beixample = bomberos[bomberos.dis=='EIXAMPLE']\n",
    "beixample.ano = pd.to_numeric(beixample.ano)"
   ]
  },
  {
   "cell_type": "code",
   "execution_count": 45,
   "metadata": {},
   "outputs": [],
   "source": [
    "comercial = beixample[beixample.uso=='INDUSTRIAL']"
   ]
  },
  {
   "cell_type": "code",
   "execution_count": 48,
   "metadata": {},
   "outputs": [
    {
     "name": "stderr",
     "output_type": "stream",
     "text": [
      "/Users/ireneroma/anaconda/lib/python2.7/site-packages/ipykernel/__main__.py:1: FutureWarning: sort(columns=....) is deprecated, use sort_values(by=.....)\n",
      "  if __name__ == '__main__':\n"
     ]
    },
    {
     "data": {
      "text/html": [
       "<div>\n",
       "<table border=\"1\" class=\"dataframe\">\n",
       "  <thead>\n",
       "    <tr style=\"text-align: right;\">\n",
       "      <th></th>\n",
       "      <th>ano</th>\n",
       "      <th>mun</th>\n",
       "      <th>dis</th>\n",
       "      <th>uso</th>\n",
       "      <th>tipo</th>\n",
       "      <th>consumo</th>\n",
       "      <th>contratos</th>\n",
       "    </tr>\n",
       "  </thead>\n",
       "  <tbody>\n",
       "    <tr>\n",
       "      <th>8627</th>\n",
       "      <td>201103</td>\n",
       "      <td>BARCELONA</td>\n",
       "      <td>CIUTAT VELLA</td>\n",
       "      <td>INDUSTRIAL</td>\n",
       "      <td>SERVEI EQUIP C.INCENDIS</td>\n",
       "      <td>0</td>\n",
       "      <td>105.0</td>\n",
       "    </tr>\n",
       "    <tr>\n",
       "      <th>10306</th>\n",
       "      <td>201105</td>\n",
       "      <td>BARCELONA</td>\n",
       "      <td>CIUTAT VELLA</td>\n",
       "      <td>INDUSTRIAL</td>\n",
       "      <td>SERVEI EQUIP C.INCENDIS</td>\n",
       "      <td>0</td>\n",
       "      <td>1.0</td>\n",
       "    </tr>\n",
       "    <tr>\n",
       "      <th>8694</th>\n",
       "      <td>201201</td>\n",
       "      <td>BARCELONA</td>\n",
       "      <td>CIUTAT VELLA</td>\n",
       "      <td>INDUSTRIAL</td>\n",
       "      <td>SERVEI EQUIP C.INCENDIS</td>\n",
       "      <td>0</td>\n",
       "      <td>3.0</td>\n",
       "    </tr>\n",
       "    <tr>\n",
       "      <th>10379</th>\n",
       "      <td>201203</td>\n",
       "      <td>BARCELONA</td>\n",
       "      <td>CIUTAT VELLA</td>\n",
       "      <td>INDUSTRIAL</td>\n",
       "      <td>SERVEI EQUIP C.INCENDIS</td>\n",
       "      <td>0</td>\n",
       "      <td>107.0</td>\n",
       "    </tr>\n",
       "    <tr>\n",
       "      <th>10639</th>\n",
       "      <td>201211</td>\n",
       "      <td>BARCELONA</td>\n",
       "      <td>CIUTAT VELLA</td>\n",
       "      <td>INDUSTRIAL</td>\n",
       "      <td>SERVEI EQUIP C.INCENDIS</td>\n",
       "      <td>0</td>\n",
       "      <td>1.0</td>\n",
       "    </tr>\n",
       "  </tbody>\n",
       "</table>\n",
       "</div>"
      ],
      "text/plain": [
       "          ano        mun           dis         uso                     tipo  \\\n",
       "8627   201103  BARCELONA  CIUTAT VELLA  INDUSTRIAL  SERVEI EQUIP C.INCENDIS   \n",
       "10306  201105  BARCELONA  CIUTAT VELLA  INDUSTRIAL  SERVEI EQUIP C.INCENDIS   \n",
       "8694   201201  BARCELONA  CIUTAT VELLA  INDUSTRIAL  SERVEI EQUIP C.INCENDIS   \n",
       "10379  201203  BARCELONA  CIUTAT VELLA  INDUSTRIAL  SERVEI EQUIP C.INCENDIS   \n",
       "10639  201211  BARCELONA  CIUTAT VELLA  INDUSTRIAL  SERVEI EQUIP C.INCENDIS   \n",
       "\n",
       "       consumo  contratos  \n",
       "8627         0      105.0  \n",
       "10306        0        1.0  \n",
       "8694         0        3.0  \n",
       "10379        0      107.0  \n",
       "10639        0        1.0  "
      ]
     },
     "execution_count": 48,
     "metadata": {},
     "output_type": "execute_result"
    }
   ],
   "source": [
    "comercial.sort(['ano','mun','dis','uso','tipo','consumo','contratos'], ascending=[True, False, False, False, False, False, False]).head()"
   ]
  },
  {
   "cell_type": "code",
   "execution_count": 92,
   "metadata": {},
   "outputs": [
    {
     "name": "stderr",
     "output_type": "stream",
     "text": [
      "/Users/ireneroma/anaconda/lib/python2.7/site-packages/ipykernel/__main__.py:2: SettingWithCopyWarning: \n",
      "A value is trying to be set on a copy of a slice from a DataFrame.\n",
      "Try using .loc[row_indexer,col_indexer] = value instead\n",
      "\n",
      "See the caveats in the documentation: http://pandas.pydata.org/pandas-docs/stable/indexing.html#indexing-view-versus-copy\n",
      "  from ipykernel import kernelapp as app\n"
     ]
    }
   ],
   "source": [
    "aeixample = accidentes[accidentes.dist==\"Eixample\"]\n",
    "aeixample[\"date\"] = aeixample[\"dia\"].map(str) + str(\"-\") + aeixample[\"mes\"].map(str) + str(\"-\") + aeixample[\"any\"].map(str) "
   ]
  },
  {
   "cell_type": "code",
   "execution_count": null,
   "metadata": {
    "collapsed": true
   },
   "outputs": [],
   "source": []
  }
 ],
 "metadata": {
  "kernelspec": {
   "display_name": "Python [conda root]",
   "language": "python",
   "name": "conda-root-py"
  },
  "language_info": {
   "codemirror_mode": {
    "name": "ipython",
    "version": 2
   },
   "file_extension": ".py",
   "mimetype": "text/x-python",
   "name": "python",
   "nbconvert_exporter": "python",
   "pygments_lexer": "ipython2",
   "version": "2.7.13"
  }
 },
 "nbformat": 4,
 "nbformat_minor": 2
}
