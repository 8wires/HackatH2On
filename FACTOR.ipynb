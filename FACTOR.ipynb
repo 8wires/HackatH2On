{
 "cells": [
  {
   "cell_type": "code",
   "execution_count": 3,
   "metadata": {},
   "outputs": [
    {
     "name": "stderr",
     "output_type": "stream",
     "text": [
      "/Users/ireneroma/anaconda/lib/python2.7/site-packages/IPython/core/interactiveshell.py:2717: DtypeWarning: Columns (10) have mixed types. Specify dtype option on import or set low_memory=False.\n",
      "  interactivity=interactivity, compiler=compiler, result=result)\n"
     ]
    }
   ],
   "source": [
    "import pandas as pd\n",
    "slice1 = pd.read_csv('../datasets/slice1.csv', sep=\";\")\n",
    "slice2 = pd.read_csv('../datasets/slice2.csv', sep=\";\")\n",
    "reclamaciones = pd.read_csv('../datasets/reclamaciones.csv', sep = \";\")\n",
    "requerimientos = pd.read_csv('../datasets/requerimientos.csv', sep = \";\")"
   ]
  },
  {
   "cell_type": "code",
   "execution_count": 38,
   "metadata": {},
   "outputs": [],
   "source": [
    "user = 'C241446332'\n",
    "slice1.ANYMES_CAL = pd.to_datetime(slice1.ANYMES_CAL, format = '%Y%m')\n",
    "slice2.ANYMES_CAL = pd.to_datetime(slice2.ANYMES_CAL, format = '%Y%m')\n",
    "slice1_user = slice1[slice1.ContratoCOD == str(user)]\n",
    "slice2_user = slice2[slice2.ContratoCOD == str(user)]\n",
    "user_consum = pd.concat([slice1_user, slice2_user])\n",
    "user_recl = reclamaciones[reclamaciones.ContratoCOD == str(user)]\n",
    "user_req = requerimientos[requerimientos.ContratoCOD == str(user)]"
   ]
  },
  {
   "cell_type": "code",
   "execution_count": 60,
   "metadata": {},
   "outputs": [
    {
     "data": {
      "text/html": [
       "<div>\n",
       "<table border=\"1\" class=\"dataframe\">\n",
       "  <thead>\n",
       "    <tr style=\"text-align: right;\">\n",
       "      <th></th>\n",
       "      <th>DESC_MUNI</th>\n",
       "      <th>DES_DISTRIC</th>\n",
       "      <th>ANYMES_CAL</th>\n",
       "      <th>DESC_TIP_SUBM</th>\n",
       "      <th>CONSUM</th>\n",
       "      <th>USO</th>\n",
       "      <th>ContratoCOD</th>\n",
       "    </tr>\n",
       "  </thead>\n",
       "  <tbody>\n",
       "    <tr>\n",
       "      <th>2644</th>\n",
       "      <td>SANT CLIMENT LLOB.</td>\n",
       "      <td>Sense Informar</td>\n",
       "      <td>2014-07-01</td>\n",
       "      <td>SUBMINISTRAMENT COMPTADOR GENERAL</td>\n",
       "      <td>20</td>\n",
       "      <td>DOMESTIC</td>\n",
       "      <td>C241446332</td>\n",
       "    </tr>\n",
       "    <tr>\n",
       "      <th>2645</th>\n",
       "      <td>SANT CLIMENT LLOB.</td>\n",
       "      <td>Sense Informar</td>\n",
       "      <td>2011-11-01</td>\n",
       "      <td>SUBMINISTRAMENT COMPTADOR GENERAL</td>\n",
       "      <td>17</td>\n",
       "      <td>DOMESTIC</td>\n",
       "      <td>C241446332</td>\n",
       "    </tr>\n",
       "    <tr>\n",
       "      <th>2646</th>\n",
       "      <td>SANT CLIMENT LLOB.</td>\n",
       "      <td>Sense Informar</td>\n",
       "      <td>2015-03-01</td>\n",
       "      <td>SUBMINISTRAMENT COMPTADOR GENERAL</td>\n",
       "      <td>20</td>\n",
       "      <td>DOMESTIC</td>\n",
       "      <td>C241446332</td>\n",
       "    </tr>\n",
       "    <tr>\n",
       "      <th>2647</th>\n",
       "      <td>SANT CLIMENT LLOB.</td>\n",
       "      <td>Sense Informar</td>\n",
       "      <td>2013-05-01</td>\n",
       "      <td>SUBMINISTRAMENT COMPTADOR GENERAL</td>\n",
       "      <td>17</td>\n",
       "      <td>DOMESTIC</td>\n",
       "      <td>C241446332</td>\n",
       "    </tr>\n",
       "    <tr>\n",
       "      <th>2648</th>\n",
       "      <td>SANT CLIMENT LLOB.</td>\n",
       "      <td>Sense Informar</td>\n",
       "      <td>2016-07-01</td>\n",
       "      <td>SUBMINISTRAMENT COMPTADOR GENERAL</td>\n",
       "      <td>5</td>\n",
       "      <td>DOMESTIC</td>\n",
       "      <td>C241446332</td>\n",
       "    </tr>\n",
       "  </tbody>\n",
       "</table>\n",
       "</div>"
      ],
      "text/plain": [
       "               DESC_MUNI     DES_DISTRIC ANYMES_CAL  \\\n",
       "2644  SANT CLIMENT LLOB.  Sense Informar 2014-07-01   \n",
       "2645  SANT CLIMENT LLOB.  Sense Informar 2011-11-01   \n",
       "2646  SANT CLIMENT LLOB.  Sense Informar 2015-03-01   \n",
       "2647  SANT CLIMENT LLOB.  Sense Informar 2013-05-01   \n",
       "2648  SANT CLIMENT LLOB.  Sense Informar 2016-07-01   \n",
       "\n",
       "                          DESC_TIP_SUBM  CONSUM       USO ContratoCOD  \n",
       "2644  SUBMINISTRAMENT COMPTADOR GENERAL      20  DOMESTIC  C241446332  \n",
       "2645  SUBMINISTRAMENT COMPTADOR GENERAL      17  DOMESTIC  C241446332  \n",
       "2646  SUBMINISTRAMENT COMPTADOR GENERAL      20  DOMESTIC  C241446332  \n",
       "2647  SUBMINISTRAMENT COMPTADOR GENERAL      17  DOMESTIC  C241446332  \n",
       "2648  SUBMINISTRAMENT COMPTADOR GENERAL       5  DOMESTIC  C241446332  "
      ]
     },
     "execution_count": 60,
     "metadata": {},
     "output_type": "execute_result"
    }
   ],
   "source": [
    "user_consum.head()"
   ]
  },
  {
   "cell_type": "code",
   "execution_count": 87,
   "metadata": {},
   "outputs": [],
   "source": [
    "user_consum1 = pd.DataFrame()\n",
    "def monthdelta(date, delta):\n",
    "    m, y = (date.month+delta) % 12, date.year + ((date.month)+delta-1) // 12\n",
    "    if not m: m = 12\n",
    "    d = min(date.day, [31,\n",
    "        29 if y%4==0 and not y%400==0 else 28,31,30,31,30,31,31,30,31,30,31][m-1])\n",
    "    return date.replace(day=d,month=m, year=y)\n",
    "for i in range(0, len(user_consum.ANYMES_CAL)-1):\n",
    "    if ((user_consum.ANYMES_CAL.iloc[i].year == 2011)|(user_consum.ANYMES_CAL.iloc[i].year == 2012))&(user_consum.CONSUM.iloc[i]>0):\n",
    "        consum_mes = user_consum.CONSUM.iloc[i]/3\n",
    "        dos_mes = pd.DataFrame({'DESC_MUNI':[user_consum.DESC_MUNI.iloc[i]],'DES_DISTRIC':[user_consum.DES_DISTRIC.iloc[i]],'ANYMES_CAL':[monthdelta(user_consum.ANYMES_CAL.iloc[i],-2)],'DESC_TIP_SUBM':[user_consum.DESC_TIP_SUBM.iloc[i]],'CONSUM':[consum_mes],'USO':[user_consum.USO.iloc[i]],'ContratoCOD':[user_consum.ContratoCOD.iloc[i]]})\n",
    "        un_mes = pd.DataFrame({'DESC_MUNI':[user_consum.DESC_MUNI.iloc[i]],'DES_DISTRIC':[user_consum.DES_DISTRIC.iloc[i]],'ANYMES_CAL':[monthdelta(user_consum.ANYMES_CAL.iloc[i],-1)],'DESC_TIP_SUBM':[user_consum.DESC_TIP_SUBM.iloc[i]],'CONSUM':[consum_mes],'USO':[user_consum.USO.iloc[i]], 'ContratoCOD':[user_consum.ContratoCOD.iloc[i]]})\n",
    "        zero_mes = pd.DataFrame({'DESC_MUNI':[user_consum.DESC_MUNI.iloc[i]],'DES_DISTRIC':[user_consum.DES_DISTRIC.iloc[i]],'ANYMES_CAL':[monthdelta(user_consum.ANYMES_CAL.iloc[i],0)],'DESC_TIP_SUBM':[user_consum.DESC_TIP_SUBM.iloc[i]],'CONSUM':[consum_mes],'USO':[user_consum.USO.iloc[i]], 'ContratoCOD':[user_consum.ContratoCOD.iloc[i]]})\n",
    "        user_consum1 = pd.concat([user_consum1,dos_mes,un_mes,zero_mes])\n",
    "    if ((user_consum.ANYMES_CAL.iloc[i].year == 2013)&(user_consum.CONSUM.iloc[i]>0)):\n",
    "        consum_mes = user_consum.CONSUM.iloc[i]/2\n",
    "        un_mes = pd.DataFrame({'DESC_MUNI':[user_consum.DESC_MUNI.iloc[i]],'DES_DISTRIC':[user_consum.DES_DISTRIC.iloc[i]],'ANYMES_CAL':[monthdelta(user_consum.ANYMES_CAL.iloc[i],-1)],'DESC_TIP_SUBM':[user_consum.DESC_TIP_SUBM.iloc[i]],'CONSUM':[consum_mes],'USO':[user_consum.USO.iloc[i]], 'ContratoCOD':[user_consum.ContratoCOD.iloc[i]]})\n",
    "        zero_mes = pd.DataFrame({'DESC_MUNI':[user_consum.DESC_MUNI.iloc[i]],'DES_DISTRIC':[user_consum.DES_DISTRIC.iloc[i]],'ANYMES_CAL':[monthdelta(user_consum.ANYMES_CAL.iloc[i],0)],'DESC_TIP_SUBM':[user_consum.DESC_TIP_SUBM.iloc[i]],'CONSUM':[consum_mes],'USO':[user_consum.USO.iloc[i]], 'ContratoCOD':[user_consum.ContratoCOD.iloc[i]]})\n",
    "        user_consum1 = pd.concat([user_consum1,un_mes,zero_mes])\n",
    "       "
   ]
  },
  {
   "cell_type": "code",
   "execution_count": 89,
   "metadata": {},
   "outputs": [
    {
     "name": "stdout",
     "output_type": "stream",
     "text": [
      "sl = -4603.6 + 0.0 ANYMES_CAL\n"
     ]
    }
   ],
   "source": [
    "import datetime\n",
    "import numpy as np\n",
    "date2 = datetime.datetime.strptime(\"2017-06-01\", \"%Y-%m-%d\").date()\n",
    "from sklearn.linear_model import LinearRegression\n",
    "model = LinearRegression()\n",
    "y = np.asarray(user_consum1['CONSUM'])\n",
    "user_consum1['ANYMES_CAL']=user_consum1['ANYMES_CAL'].map(datetime.datetime.toordinal)\n",
    "X = user_consum1[['ANYMES_CAL']]\n",
    "model.fit(X, y)\n",
    "model.score(X, y)\n",
    "coefs = zip(model.coef_, X.columns)\n",
    "result = model.predict(date2.toordinal())\n",
    "print \"sl = %.1f + \" % model.intercept_ + \\\n",
    "\" + \".join(\"%.1f %s\" % coef for coef in coefs)"
   ]
  },
  {
   "cell_type": "code",
   "execution_count": 93,
   "metadata": {},
   "outputs": [
    {
     "ename": "AttributeError",
     "evalue": "'Series' object has no attribute 'year'",
     "output_type": "error",
     "traceback": [
      "\u001b[0;31m---------------------------------------------------------------------------\u001b[0m",
      "\u001b[0;31mAttributeError\u001b[0m                            Traceback (most recent call last)",
      "\u001b[0;32m<ipython-input-93-0ef4331d81a1>\u001b[0m in \u001b[0;36m<module>\u001b[0;34m()\u001b[0m\n\u001b[1;32m      1\u001b[0m \u001b[0muser_recl\u001b[0m\u001b[0;34m.\u001b[0m\u001b[0mFin\u001b[0m \u001b[0;34m=\u001b[0m \u001b[0mpd\u001b[0m\u001b[0;34m.\u001b[0m\u001b[0mto_datetime\u001b[0m\u001b[0;34m(\u001b[0m\u001b[0muser_recl\u001b[0m\u001b[0;34m.\u001b[0m\u001b[0mFin\u001b[0m\u001b[0;34m,\u001b[0m \u001b[0mformat\u001b[0m \u001b[0;34m=\u001b[0m \u001b[0;34m'%Y-%m-%d %H:%M:%S'\u001b[0m\u001b[0;34m)\u001b[0m\u001b[0;34m\u001b[0m\u001b[0m\n\u001b[1;32m      2\u001b[0m \u001b[0muser_req\u001b[0m\u001b[0;34m.\u001b[0m\u001b[0mFin\u001b[0m \u001b[0;34m=\u001b[0m \u001b[0mpd\u001b[0m\u001b[0;34m.\u001b[0m\u001b[0mto_datetime\u001b[0m\u001b[0;34m(\u001b[0m\u001b[0muser_req\u001b[0m\u001b[0;34m.\u001b[0m\u001b[0mFin\u001b[0m\u001b[0;34m,\u001b[0m \u001b[0mformat\u001b[0m \u001b[0;34m=\u001b[0m \u001b[0;34m'%Y-%m-%d %H:%M:%S'\u001b[0m\u001b[0;34m)\u001b[0m\u001b[0;34m\u001b[0m\u001b[0m\n\u001b[0;32m----> 3\u001b[0;31m \u001b[0;32mif\u001b[0m \u001b[0;34m(\u001b[0m\u001b[0muser_recl\u001b[0m\u001b[0;34m.\u001b[0m\u001b[0mFin\u001b[0m\u001b[0;34m.\u001b[0m\u001b[0myear\u001b[0m \u001b[0;34m==\u001b[0m \u001b[0;36m2016\u001b[0m\u001b[0;34m)\u001b[0m\u001b[0;34m:\u001b[0m\u001b[0;34m\u001b[0m\u001b[0m\n\u001b[0m\u001b[1;32m      4\u001b[0m     \u001b[0mnum_recl\u001b[0m \u001b[0;34m=\u001b[0m \u001b[0mlen\u001b[0m\u001b[0;34m(\u001b[0m\u001b[0muser_recl\u001b[0m\u001b[0;34m[\u001b[0m\u001b[0muser_recl\u001b[0m\u001b[0;34m.\u001b[0m\u001b[0mFin\u001b[0m\u001b[0;34m.\u001b[0m\u001b[0myear\u001b[0m \u001b[0;34m==\u001b[0m \u001b[0;36m2016\u001b[0m\u001b[0;34m]\u001b[0m\u001b[0;34m)\u001b[0m\u001b[0;34m\u001b[0m\u001b[0m\n\u001b[1;32m      5\u001b[0m     \u001b[0;32mif\u001b[0m \u001b[0;34m(\u001b[0m\u001b[0muser_req\u001b[0m\u001b[0;34m.\u001b[0m\u001b[0mFin\u001b[0m\u001b[0;34m.\u001b[0m\u001b[0myear\u001b[0m \u001b[0;34m==\u001b[0m \u001b[0;36m2016\u001b[0m\u001b[0;34m)\u001b[0m\u001b[0;34m:\u001b[0m\u001b[0;34m\u001b[0m\u001b[0m\n",
      "\u001b[0;32m/Users/ireneroma/anaconda/lib/python2.7/site-packages/pandas/core/generic.pyc\u001b[0m in \u001b[0;36m__getattr__\u001b[0;34m(self, name)\u001b[0m\n\u001b[1;32m   2742\u001b[0m             \u001b[0;32mif\u001b[0m \u001b[0mname\u001b[0m \u001b[0;32min\u001b[0m \u001b[0mself\u001b[0m\u001b[0;34m.\u001b[0m\u001b[0m_info_axis\u001b[0m\u001b[0;34m:\u001b[0m\u001b[0;34m\u001b[0m\u001b[0m\n\u001b[1;32m   2743\u001b[0m                 \u001b[0;32mreturn\u001b[0m \u001b[0mself\u001b[0m\u001b[0;34m[\u001b[0m\u001b[0mname\u001b[0m\u001b[0;34m]\u001b[0m\u001b[0;34m\u001b[0m\u001b[0m\n\u001b[0;32m-> 2744\u001b[0;31m             \u001b[0;32mreturn\u001b[0m \u001b[0mobject\u001b[0m\u001b[0;34m.\u001b[0m\u001b[0m__getattribute__\u001b[0m\u001b[0;34m(\u001b[0m\u001b[0mself\u001b[0m\u001b[0;34m,\u001b[0m \u001b[0mname\u001b[0m\u001b[0;34m)\u001b[0m\u001b[0;34m\u001b[0m\u001b[0m\n\u001b[0m\u001b[1;32m   2745\u001b[0m \u001b[0;34m\u001b[0m\u001b[0m\n\u001b[1;32m   2746\u001b[0m     \u001b[0;32mdef\u001b[0m \u001b[0m__setattr__\u001b[0m\u001b[0;34m(\u001b[0m\u001b[0mself\u001b[0m\u001b[0;34m,\u001b[0m \u001b[0mname\u001b[0m\u001b[0;34m,\u001b[0m \u001b[0mvalue\u001b[0m\u001b[0;34m)\u001b[0m\u001b[0;34m:\u001b[0m\u001b[0;34m\u001b[0m\u001b[0m\n",
      "\u001b[0;31mAttributeError\u001b[0m: 'Series' object has no attribute 'year'"
     ]
    }
   ],
   "source": [
    "user_recl.Fin = pd.to_datetime(user_recl.Fin, format = '%Y-%m-%d %H:%M:%S')\n",
    "user_req.Fin = pd.to_datetime(user_req.Fin, format = '%Y-%m-%d %H:%M:%S')\n",
    "if (user_recl.Fin.year == 2016):\n",
    "    num_recl = len(user_recl[user_recl.Fin.year == 2016])\n",
    "    if (user_req.Fin.year == 2016):\n",
    "        num_req = len(user_req[user_req.Fin.year == 2016])"
   ]
  },
  {
   "cell_type": "code",
   "execution_count": 25,
   "metadata": {},
   "outputs": [
    {
     "data": {
      "text/html": [
       "<div>\n",
       "<table border=\"1\" class=\"dataframe\">\n",
       "  <thead>\n",
       "    <tr style=\"text-align: right;\">\n",
       "      <th></th>\n",
       "      <th>Unnamed: 0</th>\n",
       "      <th>IDContactoCod</th>\n",
       "      <th>TipoContacto</th>\n",
       "      <th>Tipo</th>\n",
       "      <th>Motivo</th>\n",
       "      <th>Estado</th>\n",
       "      <th>IDFincaCod</th>\n",
       "      <th>Municipio</th>\n",
       "      <th>ContratoCOD</th>\n",
       "      <th>Inicio</th>\n",
       "      <th>Fin</th>\n",
       "    </tr>\n",
       "  </thead>\n",
       "  <tbody>\n",
       "    <tr>\n",
       "      <th>1</th>\n",
       "      <td>12605</td>\n",
       "      <td>A61745818</td>\n",
       "      <td>CE</td>\n",
       "      <td>Correo - Recibido</td>\n",
       "      <td>Reclamaci�n</td>\n",
       "      <td>Cerrado</td>\n",
       "      <td>B32992249</td>\n",
       "      <td>SANT CLIMENT DE LLOBREGAT</td>\n",
       "      <td>C241446332</td>\n",
       "      <td>2016-04-25 16:42:28</td>\n",
       "      <td>2016-04-25 16:46:44</td>\n",
       "    </tr>\n",
       "  </tbody>\n",
       "</table>\n",
       "</div>"
      ],
      "text/plain": [
       "   Unnamed: 0 IDContactoCod TipoContacto               Tipo       Motivo  \\\n",
       "1       12605     A61745818           CE  Correo - Recibido  Reclamaci�n   \n",
       "\n",
       "    Estado IDFincaCod                  Municipio ContratoCOD  \\\n",
       "1  Cerrado  B32992249  SANT CLIMENT DE LLOBREGAT  C241446332   \n",
       "\n",
       "                Inicio                  Fin  \n",
       "1  2016-04-25 16:42:28  2016-04-25 16:46:44  "
      ]
     },
     "execution_count": 25,
     "metadata": {},
     "output_type": "execute_result"
    }
   ],
   "source": [
    "user_recl"
   ]
  },
  {
   "cell_type": "code",
   "execution_count": 26,
   "metadata": {},
   "outputs": [
    {
     "data": {
      "text/html": [
       "<div>\n",
       "<table border=\"1\" class=\"dataframe\">\n",
       "  <thead>\n",
       "    <tr style=\"text-align: right;\">\n",
       "      <th></th>\n",
       "      <th>Unnamed: 0</th>\n",
       "      <th>Inicio</th>\n",
       "      <th>Fin</th>\n",
       "      <th>Municipio</th>\n",
       "      <th>Codpostal</th>\n",
       "      <th>Estado</th>\n",
       "      <th>Categoria</th>\n",
       "      <th>Asunto</th>\n",
       "      <th>Tema</th>\n",
       "      <th>Motivo</th>\n",
       "      <th>Uso</th>\n",
       "      <th>IDContactoCod</th>\n",
       "      <th>ContratoCOD</th>\n",
       "    </tr>\n",
       "  </thead>\n",
       "  <tbody>\n",
       "    <tr>\n",
       "      <th>107079</th>\n",
       "      <td>1861649</td>\n",
       "      <td>2015-11-14 20:55:59</td>\n",
       "      <td>2015-11-15 11:46:04</td>\n",
       "      <td>SANT CLIMENT DE LLOBREGAT</td>\n",
       "      <td>8849.0</td>\n",
       "      <td>Cerrada</td>\n",
       "      <td>Reclamaci�n t�cnica</td>\n",
       "      <td>Escape</td>\n",
       "      <td>Cuarto de bateria</td>\n",
       "      <td>Otros</td>\n",
       "      <td>DOMESTIC</td>\n",
       "      <td>A257505242</td>\n",
       "      <td>C241446332</td>\n",
       "    </tr>\n",
       "  </tbody>\n",
       "</table>\n",
       "</div>"
      ],
      "text/plain": [
       "        Unnamed: 0               Inicio                  Fin  \\\n",
       "107079     1861649  2015-11-14 20:55:59  2015-11-15 11:46:04   \n",
       "\n",
       "                        Municipio  Codpostal   Estado            Categoria  \\\n",
       "107079  SANT CLIMENT DE LLOBREGAT     8849.0  Cerrada  Reclamaci�n t�cnica   \n",
       "\n",
       "        Asunto               Tema Motivo       Uso IDContactoCod ContratoCOD  \n",
       "107079  Escape  Cuarto de bateria  Otros  DOMESTIC    A257505242  C241446332  "
      ]
     },
     "execution_count": 26,
     "metadata": {},
     "output_type": "execute_result"
    }
   ],
   "source": [
    "user_req"
   ]
  },
  {
   "cell_type": "code",
   "execution_count": null,
   "metadata": {},
   "outputs": [],
   "source": []
  },
  {
   "cell_type": "code",
   "execution_count": null,
   "metadata": {
    "collapsed": true
   },
   "outputs": [],
   "source": [
    "month = datetime.timedelta(months=1)"
   ]
  }
 ],
 "metadata": {
  "kernelspec": {
   "display_name": "Python [default]",
   "language": "python",
   "name": "python2"
  },
  "language_info": {
   "codemirror_mode": {
    "name": "ipython",
    "version": 2
   },
   "file_extension": ".py",
   "mimetype": "text/x-python",
   "name": "python",
   "nbconvert_exporter": "python",
   "pygments_lexer": "ipython2",
   "version": "2.7.13"
  }
 },
 "nbformat": 4,
 "nbformat_minor": 2
}
